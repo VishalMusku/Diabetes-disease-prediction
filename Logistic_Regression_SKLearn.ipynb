{
 "cells": [
  {
   "cell_type": "code",
   "execution_count": 13,
   "id": "f524eb01",
   "metadata": {},
   "outputs": [],
   "source": [
    "import pandas as pd"
   ]
  },
  {
   "cell_type": "code",
   "execution_count": 14,
   "id": "be4f43a5",
   "metadata": {},
   "outputs": [],
   "source": [
    "df = pd.read_csv(\"diabetes_binary_5050split_health_indicators_BRFSS2015_cleaned.csv\")"
   ]
  },
  {
   "cell_type": "code",
   "execution_count": 15,
   "id": "7457f2eb",
   "metadata": {},
   "outputs": [],
   "source": [
    "X = df[[\"HighBP\", \"HighChol\", \"CholCheck\", \"BMI\", \"Smoker\", \"Stroke\", \"HeartDiseaseorAttack\", \"PhysActivity\", \"Fruits\", \"Veggies\", \"HvyAlcoholConsump\", \"AnyHealthcare\", \"NoDocbcCost\", \"DiffWalk\", \"Sex\", \"Age\", \"Education\"]]"
   ]
  },
  {
   "cell_type": "code",
   "execution_count": 16,
   "id": "a32b234a",
   "metadata": {},
   "outputs": [],
   "source": [
    "y = df.Diabetes_binary"
   ]
  },
  {
   "cell_type": "code",
   "execution_count": 17,
   "id": "02865991",
   "metadata": {},
   "outputs": [],
   "source": [
    "from sklearn.model_selection import train_test_split"
   ]
  },
  {
   "cell_type": "code",
   "execution_count": 18,
   "id": "3d2d59da",
   "metadata": {},
   "outputs": [],
   "source": [
    "X_train,X_test,y_train,y_test = train_test_split(X,y,test_size=0.33, random_state=42)"
   ]
  },
  {
   "cell_type": "code",
   "execution_count": 19,
   "id": "615baba2",
   "metadata": {},
   "outputs": [],
   "source": [
    "from sklearn.linear_model import LogisticRegression"
   ]
  },
  {
   "cell_type": "code",
   "execution_count": 20,
   "id": "5e08d4fa",
   "metadata": {},
   "outputs": [],
   "source": [
    "logreg = LogisticRegression()\n",
    "logreg.fit(X_train,y_train)\n",
    "\n",
    "y_pred = logreg.predict(X_test)"
   ]
  },
  {
   "cell_type": "code",
   "execution_count": 21,
   "id": "a854c04f",
   "metadata": {},
   "outputs": [],
   "source": [
    "#Evaluate the model\n",
    "from sklearn.metrics import accuracy_score"
   ]
  },
  {
   "cell_type": "code",
   "execution_count": 22,
   "id": "b0c0cff5",
   "metadata": {},
   "outputs": [
    {
     "name": "stdout",
     "output_type": "stream",
     "text": [
      "Accuracy : 0.7250632260276909\n"
     ]
    }
   ],
   "source": [
    "score = accuracy_score(y_test,y_pred)\n",
    "print('Accuracy :', score)"
   ]
  },
  {
   "cell_type": "code",
   "execution_count": null,
   "id": "6c8473ef",
   "metadata": {},
   "outputs": [],
   "source": []
  }
 ],
 "metadata": {
  "kernelspec": {
   "display_name": "Python 3 (ipykernel)",
   "language": "python",
   "name": "python3"
  },
  "language_info": {
   "codemirror_mode": {
    "name": "ipython",
    "version": 3
   },
   "file_extension": ".py",
   "mimetype": "text/x-python",
   "name": "python",
   "nbconvert_exporter": "python",
   "pygments_lexer": "ipython3",
   "version": "3.9.7"
  }
 },
 "nbformat": 4,
 "nbformat_minor": 5
}
